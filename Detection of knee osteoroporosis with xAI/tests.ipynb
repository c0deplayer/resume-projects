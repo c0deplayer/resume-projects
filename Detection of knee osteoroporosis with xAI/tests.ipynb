{
 "cells": [
  {
   "cell_type": "code",
   "execution_count": 36,
   "metadata": {},
   "outputs": [
    {
     "name": "stdout",
     "output_type": "stream",
     "text": [
      "The autoreload extension is already loaded. To reload it, use:\n",
      "  %reload_ext autoreload\n"
     ]
    }
   ],
   "source": [
    "from pathlib import Path\n",
    "import warnings\n",
    "\n",
    "from configs.constants import CONFIGS\n",
    "from dataset.dataset import ImageDataset\n",
    "\n",
    "warnings.filterwarnings(\"ignore\")\n",
    "%load_ext autoreload\n",
    "%autoreload 2"
   ]
  },
  {
   "cell_type": "code",
   "execution_count": 37,
   "metadata": {},
   "outputs": [],
   "source": [
    "config_file = f\"{Path().resolve()}/configs/DenseNet/base_config.yaml\"\n",
    "config = CONFIGS[\"DenseNet\"].from_yaml_file(file=config_file)"
   ]
  },
  {
   "cell_type": "code",
   "execution_count": 43,
   "metadata": {},
   "outputs": [],
   "source": [
    "test = ImageDataset(config=config, mode=\"train\", model=\"densenet121\", augment=True)"
   ]
  },
  {
   "cell_type": "code",
   "execution_count": 44,
   "metadata": {},
   "outputs": [
    {
     "name": "stdout",
     "output_type": "stream",
     "text": [
      "tensor([[[-0.2342, -0.2342, -0.2171,  ..., -0.4397, -0.4054, -0.4226],\n",
      "         [-0.1999, -0.2342, -0.2171,  ..., -0.4226, -0.3883, -0.4226],\n",
      "         [-0.1828, -0.2171, -0.2342,  ..., -0.4397, -0.4054, -0.4226],\n",
      "         ...,\n",
      "         [-1.9638, -1.9638, -1.9638,  ..., -1.9638, -1.9638, -1.9638],\n",
      "         [-1.9638, -1.9638, -1.9638,  ..., -1.9638, -1.9638, -1.9638],\n",
      "         [-1.9638, -1.9638, -1.9638,  ..., -1.9638, -1.9638, -1.9638]],\n",
      "\n",
      "        [[-0.1099, -0.1099, -0.0924,  ..., -0.3200, -0.2850, -0.3025],\n",
      "         [-0.0749, -0.1099, -0.0924,  ..., -0.3025, -0.2675, -0.3025],\n",
      "         [-0.0574, -0.0924, -0.1099,  ..., -0.3200, -0.2850, -0.3025],\n",
      "         ...,\n",
      "         [-1.8782, -1.8782, -1.8782,  ..., -1.8782, -1.8782, -1.8782],\n",
      "         [-1.8782, -1.8782, -1.8782,  ..., -1.8782, -1.8782, -1.8782],\n",
      "         [-1.8782, -1.8782, -1.8782,  ..., -1.8782, -1.8782, -1.8782]],\n",
      "\n",
      "        [[ 0.1128,  0.1128,  0.1302,  ..., -0.0964, -0.0615, -0.0790],\n",
      "         [ 0.1476,  0.1128,  0.1302,  ..., -0.0790, -0.0441, -0.0790],\n",
      "         [ 0.1651,  0.1302,  0.1128,  ..., -0.0964, -0.0615, -0.0790],\n",
      "         ...,\n",
      "         [-1.6476, -1.6476, -1.6476,  ..., -1.6476, -1.6476, -1.6476],\n",
      "         [-1.6476, -1.6476, -1.6476,  ..., -1.6476, -1.6476, -1.6476],\n",
      "         [-1.6476, -1.6476, -1.6476,  ..., -1.6476, -1.6476, -1.6476]]])\n"
     ]
    }
   ],
   "source": [
    "for x, y in test:\n",
    "    if y[-1]:\n",
    "        print(x)\n",
    "        break"
   ]
  }
 ],
 "metadata": {
  "kernelspec": {
   "display_name": ".venv",
   "language": "python",
   "name": "python3"
  },
  "language_info": {
   "codemirror_mode": {
    "name": "ipython",
    "version": 3
   },
   "file_extension": ".py",
   "mimetype": "text/x-python",
   "name": "python",
   "nbconvert_exporter": "python",
   "pygments_lexer": "ipython3",
   "version": "3.12.5"
  }
 },
 "nbformat": 4,
 "nbformat_minor": 2
}
